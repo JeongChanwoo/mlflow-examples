{
 "cells": [
  {
   "cell_type": "markdown",
   "metadata": {},
   "source": [
    "# Model Registry Sampler\n",
    "\n",
    "Explores the MLflow Model Registry API.\n",
    "Works as both a Databricks and Jupyter notebook.\n",
    "\n",
    "**Overview**\n",
    "* Starts clean: deletes all runs and the registered model.\n",
    "* Trains a model 5 times with different hyperparameters.\n",
    "* Gets the best model run and registers it as `production`.\n",
    "* Gets the three next best model runs and registers them as `staging`.\n",
    "* Loads the production model and runs predictions - using new `models` URI\n",
    "* Loads the staging model and runs predictions - - using new `models` URI.\n",
    "\n",
    "**Databricks Issues**\n",
    "* If we call update_model_version() immediately after create_model_version() without a sleep, the version may not be in `READY` state\n",
    "  * ERROR: INVALID_STATE: Model version andre_sklearn_registry_test version 1 has invalid status PENDING_REGISTRATION. Expected status is READY.\n",
    "* This issue do not occur when running open source MLflow with Jupyter.\n",
    "\n",
    "**Github**\n",
    "* https://github.com/amesar/mlflow-examples/blob/master/model_registry/Model_Registry_Sampler.html\n",
    "\n",
    "**Setup**\n",
    "* Use DBR ML 6.2 which comes with MLflow 1.4.0 installed\n",
    "\n",
    "Last updated: 2019-12-06"
   ]
  },
  {
   "cell_type": "markdown",
   "metadata": {},
   "source": [
    "### Setup"
   ]
  },
  {
   "cell_type": "code",
   "execution_count": 1,
   "metadata": {},
   "outputs": [
    {
     "name": "stdout",
     "output_type": "stream",
     "text": [
      "MLflow Version: 1.4.0\n"
     ]
    },
    {
     "data": {
      "text/plain": [
       "'file:///Users/ander/git/andre/mlflow-examples/model_registry/mlruns'"
      ]
     },
     "execution_count": 1,
     "metadata": {},
     "output_type": "execute_result"
    }
   ],
   "source": [
    "import mlflow\n",
    "import time\n",
    "print(\"MLflow Version:\",mlflow.version.VERSION)\n",
    "mlflow.tracking.get_tracking_uri()"
   ]
  },
  {
   "cell_type": "code",
   "execution_count": 2,
   "metadata": {},
   "outputs": [
    {
     "data": {
      "text/plain": [
       "False"
      ]
     },
     "execution_count": 2,
     "metadata": {},
     "output_type": "execute_result"
    }
   ],
   "source": [
    "import os\n",
    "is_databricks  = os.environ.get('DATABRICKS_RUNTIME_VERSION') is not None\n",
    "is_databricks"
   ]
  },
  {
   "cell_type": "code",
   "execution_count": 3,
   "metadata": {},
   "outputs": [
    {
     "data": {
      "text/plain": [
       "('2', 'sklearn_registry_sampler', 0)"
      ]
     },
     "execution_count": 3,
     "metadata": {},
     "output_type": "execute_result"
    }
   ],
   "source": [
    "if is_databricks:\n",
    "    client = mlflow.tracking.MlflowClient()\n",
    "    dbutils.widgets.text(\"Nap Time\", \"2\") \n",
    "    naptime = int(dbutils.widgets.get(\"Nap Time\"))\n",
    "    data_path = \"/dbfs/tmp/mlflow/wine-quality.csv\"\n",
    "    model_name = \"andre_sklearn_registry_sampler\"\n",
    "    experiment_name = dbutils.notebook.entry_point.getDbutils().notebook().getContext().notebookPath().get()\n",
    "    print(\"experiment_name:\",experiment_name)\n",
    "else:\n",
    "    data_path = \"../data/wine-quality-white.csv\"\n",
    "    mlflow.set_tracking_uri(\"http://localhost:5000\")\n",
    "    client = mlflow.tracking.MlflowClient()\n",
    "    naptime = 0\n",
    "    model_name = \"sklearn_registry_sampler\"\n",
    "    experiment_name = \"sklearn_registry_sampler\"\n",
    "    mlflow.set_experiment(experiment_name)\n",
    "experiment_id = client.get_experiment_by_name(experiment_name).experiment_id\n",
    "experiment_id, experiment_name, naptime"
   ]
  },
  {
   "cell_type": "code",
   "execution_count": 4,
   "metadata": {},
   "outputs": [],
   "source": [
    "if is_databricks:\n",
    "    host_name = dbutils.notebook.entry_point.getDbutils().notebook().getContext().tags().get(\"browserHostName\").get()\n",
    "    uri = \"https://{}/#mlflow/experiments/{}\".format(host_name,experiment_id)\n",
    "    displayHTML(\"\"\"<b>Experiment URI:</b> <a href=\"{}\">{}</a>\"\"\".format(uri,uri))"
   ]
  },
  {
   "cell_type": "code",
   "execution_count": 5,
   "metadata": {},
   "outputs": [],
   "source": [
    "if is_databricks:\n",
    "    uri = \"https://{}/#mlflow/models/{}\".format(host_name,model_name)\n",
    "    displayHTML(\"\"\"<b>Registered Model URI:</b> <a href=\"{}\">{}</a>\"\"\".format(uri,uri))"
   ]
  },
  {
   "cell_type": "code",
   "execution_count": 6,
   "metadata": {},
   "outputs": [
    {
     "name": "stdout",
     "output_type": "stream",
     "text": [
      "#runs: 5\n"
     ]
    }
   ],
   "source": [
    "runs = client.list_run_infos(experiment_id)\n",
    "print(\"#runs:\",len(runs))\n",
    "for info in runs:\n",
    "    client.delete_run(info.run_id)"
   ]
  },
  {
   "cell_type": "markdown",
   "metadata": {},
   "source": [
    "### Define training"
   ]
  },
  {
   "cell_type": "code",
   "execution_count": 7,
   "metadata": {},
   "outputs": [],
   "source": [
    "import pandas as pd\n",
    "import numpy as np\n",
    "from sklearn.metrics import mean_squared_error, mean_absolute_error, r2_score\n",
    "from sklearn.model_selection import train_test_split\n",
    "from sklearn.tree import DecisionTreeRegressor\n",
    "import mlflow\n",
    "import mlflow.sklearn"
   ]
  },
  {
   "cell_type": "code",
   "execution_count": 8,
   "metadata": {},
   "outputs": [],
   "source": [
    "data = pd.read_csv(data_path)\n",
    "train, test = train_test_split(data)\n",
    "train_x = train.drop([\"quality\"], axis=1)\n",
    "test_x = test.drop([\"quality\"], axis=1)\n",
    "train_y = train[[\"quality\"]]\n",
    "test_y = test[[\"quality\"]]"
   ]
  },
  {
   "cell_type": "code",
   "execution_count": 9,
   "metadata": {},
   "outputs": [],
   "source": [
    "def train(max_depth):\n",
    "    with mlflow.start_run(run_name=\"reg_test\") as run:\n",
    "        run_id = run.info.run_uuid\n",
    "        dt = DecisionTreeRegressor(max_depth=max_depth)\n",
    "        dt.fit(train_x, train_y)\n",
    "        predictions = dt.predict(test_x)\n",
    "        mlflow.log_param(\"max_depth\", max_depth)\n",
    "        rmse = np.sqrt(mean_squared_error(test_y, predictions))\n",
    "        mlflow.log_metric(\"rmse\", rmse)\n",
    "        print(f\"{experiment_id} {run_id} {round(rmse,3)}\")\n",
    "        mlflow.sklearn.log_model(dt, \"sklearn-model\")"
   ]
  },
  {
   "cell_type": "markdown",
   "metadata": {},
   "source": [
    "### Create runs"
   ]
  },
  {
   "cell_type": "code",
   "execution_count": 10,
   "metadata": {},
   "outputs": [
    {
     "name": "stdout",
     "output_type": "stream",
     "text": [
      "2 31609993545b4ccfa714674671a450cb 0.814\n",
      "2 66d0de28bf65485db439d1ff5ab2d161 0.779\n",
      "2 cb714e90454e4ea689127cde4799bd46 0.753\n",
      "2 abdadacf27a64e3b82ff9c3c15679518 0.741\n",
      "2 7f65da46d2b84b40814823a657c1c733 0.808\n"
     ]
    }
   ],
   "source": [
    "max_depths = [1,2,4,5,16]\n",
    "for x in max_depths:\n",
    "    train(x)"
   ]
  },
  {
   "cell_type": "markdown",
   "metadata": {},
   "source": [
    "### Create model versions"
   ]
  },
  {
   "cell_type": "code",
   "execution_count": 11,
   "metadata": {
    "scrolled": true
   },
   "outputs": [
    {
     "name": "stdout",
     "output_type": "stream",
     "text": [
      "0.741 {'max_depth': '5'}\n",
      "0.753 {'max_depth': '4'}\n",
      "0.779 {'max_depth': '2'}\n",
      "0.808 {'max_depth': '16'}\n",
      "0.814 {'max_depth': '1'}\n"
     ]
    }
   ],
   "source": [
    "runs = client.search_runs(experiment_id,\"\", order_by=[\"metrics.rmse asc\"])\n",
    "for run in runs:\n",
    "    print(f\"{round(run.data.metrics['rmse'],3)} {run.data.params}\")"
   ]
  },
  {
   "cell_type": "code",
   "execution_count": 12,
   "metadata": {},
   "outputs": [
    {
     "data": {
      "text/plain": [
       "0.741"
      ]
     },
     "execution_count": 12,
     "metadata": {},
     "output_type": "execute_result"
    }
   ],
   "source": [
    "prod_run = runs[:1][0]\n",
    "round(prod_run.data.metrics['rmse'],3)"
   ]
  },
  {
   "cell_type": "code",
   "execution_count": 13,
   "metadata": {},
   "outputs": [
    {
     "data": {
      "text/plain": [
       "(3, 1)"
      ]
     },
     "execution_count": 13,
     "metadata": {},
     "output_type": "execute_result"
    }
   ],
   "source": [
    "staging_runs = runs[1:4]\n",
    "none_runs = runs[4:]\n",
    "len(staging_runs),len(none_runs)"
   ]
  },
  {
   "cell_type": "code",
   "execution_count": 14,
   "metadata": {},
   "outputs": [
    {
     "name": "stdout",
     "output_type": "stream",
     "text": [
      "0.753 {'max_depth': '4'}\n",
      "0.779 {'max_depth': '2'}\n",
      "0.808 {'max_depth': '16'}\n"
     ]
    }
   ],
   "source": [
    "for run in staging_runs:\n",
    "    print(f\"{round(run.data.metrics['rmse'],3)} {run.data.params}\")"
   ]
  },
  {
   "cell_type": "code",
   "execution_count": 15,
   "metadata": {
    "scrolled": true
   },
   "outputs": [
    {
     "name": "stdout",
     "output_type": "stream",
     "text": [
      "0.814 {'max_depth': '1'}\n"
     ]
    }
   ],
   "source": [
    "for run in none_runs:\n",
    "    print(f\"{round(run.data.metrics['rmse'],3)} {run.data.params}\")"
   ]
  },
  {
   "cell_type": "markdown",
   "metadata": {},
   "source": [
    "## Registry"
   ]
  },
  {
   "cell_type": "code",
   "execution_count": 16,
   "metadata": {},
   "outputs": [
    {
     "name": "stdout",
     "output_type": "stream",
     "text": [
      "Deleting model\n"
     ]
    }
   ],
   "source": [
    "try:\n",
    "    client.delete_registered_model(model_name)\n",
    "    print(\"Deleting model\")\n",
    "except Exception as e:\n",
    "    print(e)"
   ]
  },
  {
   "cell_type": "code",
   "execution_count": 17,
   "metadata": {},
   "outputs": [
    {
     "name": "stdout",
     "output_type": "stream",
     "text": [
      "Creating new model\n"
     ]
    },
    {
     "data": {
      "text/plain": [
       "(mlflow.entities.model_registry.registered_model_detailed.RegisteredModelDetailed,\n",
       " {'_name': 'sklearn_registry_sampler',\n",
       "  '_creation_time': 1575667807657,\n",
       "  '_last_updated_timestamp': 1575667807657,\n",
       "  '_description': '',\n",
       "  '_latest_version': []})"
      ]
     },
     "execution_count": 17,
     "metadata": {},
     "output_type": "execute_result"
    }
   ],
   "source": [
    "from mlflow.exceptions import MlflowException, RestException\n",
    "try:\n",
    "    registered_model = client.get_registered_model_details(model_name)\n",
    "    print(\"Found existing model\")\n",
    "except RestException as e:\n",
    "    print(\"Creating new model\")\n",
    "    client.create_registered_model(model_name)\n",
    "    registered_model = client.get_registered_model_details(model_name)\n",
    "type(registered_model), registered_model.__dict__"
   ]
  },
  {
   "cell_type": "markdown",
   "metadata": {},
   "source": [
    "### Production model"
   ]
  },
  {
   "cell_type": "code",
   "execution_count": 18,
   "metadata": {},
   "outputs": [
    {
     "data": {
      "text/plain": [
       "'/usr/local/opt/mlflow/mlruns/2/abdadacf27a64e3b82ff9c3c15679518/artifacts'"
      ]
     },
     "execution_count": 18,
     "metadata": {},
     "output_type": "execute_result"
    }
   ],
   "source": [
    "prod_run.info.artifact_uri"
   ]
  },
  {
   "cell_type": "code",
   "execution_count": 19,
   "metadata": {},
   "outputs": [],
   "source": [
    "source = f\"{prod_run.info.artifact_uri}/sklearn-model\"\n",
    "client.create_model_version(model_name, source, prod_run.info.run_id)\n",
    "time.sleep(naptime)"
   ]
  },
  {
   "cell_type": "code",
   "execution_count": 20,
   "metadata": {},
   "outputs": [
    {
     "data": {
      "text/plain": [
       "(0, [])"
      ]
     },
     "execution_count": 20,
     "metadata": {},
     "output_type": "execute_result"
    }
   ],
   "source": [
    "versions = client.get_latest_versions(model_name)\n",
    "len(versions),versions"
   ]
  },
  {
   "cell_type": "code",
   "execution_count": 21,
   "metadata": {},
   "outputs": [
    {
     "data": {
      "text/plain": [
       "(1,\n",
       " [<ModelVersionDetailed: creation_timestamp=1575667807691, current_stage='None', description='', last_updated_timestamp=1575667807691, registered_model=<RegisteredModel: name='sklearn_registry_sampler'>, run_id='abdadacf27a64e3b82ff9c3c15679518', source='/usr/local/opt/mlflow/mlruns/2/abdadacf27a64e3b82ff9c3c15679518/artifacts/sklearn-model', status='READY', status_message='', user_id='', version=1>])"
      ]
     },
     "execution_count": 21,
     "metadata": {},
     "output_type": "execute_result"
    }
   ],
   "source": [
    "registered_model = client.get_registered_model_details(model_name)\n",
    "versions = registered_model.latest_versions\n",
    "len(versions),versions"
   ]
  },
  {
   "cell_type": "code",
   "execution_count": 22,
   "metadata": {},
   "outputs": [
    {
     "data": {
      "text/plain": [
       "{'_registered_model': <RegisteredModel: name='sklearn_registry_sampler'>,\n",
       " '_version': 1,\n",
       " '_creation_time': 1575667807691,\n",
       " '_last_updated_timestamp': 1575667807691,\n",
       " '_description': '',\n",
       " '_user_id': '',\n",
       " '_current_stage': 'None',\n",
       " '_source': '/usr/local/opt/mlflow/mlruns/2/abdadacf27a64e3b82ff9c3c15679518/artifacts/sklearn-model',\n",
       " '_run_id': 'abdadacf27a64e3b82ff9c3c15679518',\n",
       " '_status': 'READY',\n",
       " '_status_message': ''}"
      ]
     },
     "execution_count": 22,
     "metadata": {},
     "output_type": "execute_result"
    }
   ],
   "source": [
    "versionDetails = client.get_model_version_details(model_name,1)\n",
    "versionDetails.__dict__"
   ]
  },
  {
   "cell_type": "markdown",
   "metadata": {},
   "source": [
    "NOTE: Without above sleep, we get this error:\n",
    "\n",
    "RestException: INVALID_STATE: Model version andre_sklearn_registry_test version 1 has invalid status PENDING_REGISTRATION. Expected status is READY."
   ]
  },
  {
   "cell_type": "code",
   "execution_count": 23,
   "metadata": {},
   "outputs": [],
   "source": [
    "client.update_model_version(model_name, 1, stage=\"Production\", description=\"My prod version\")"
   ]
  },
  {
   "cell_type": "code",
   "execution_count": 24,
   "metadata": {},
   "outputs": [
    {
     "data": {
      "text/plain": [
       "['None', 'Staging', 'Production', 'Archived']"
      ]
     },
     "execution_count": 24,
     "metadata": {},
     "output_type": "execute_result"
    }
   ],
   "source": [
    "client.get_model_version_stages(model_name,1)"
   ]
  },
  {
   "cell_type": "code",
   "execution_count": 25,
   "metadata": {},
   "outputs": [
    {
     "data": {
      "text/plain": [
       "[<ModelVersionDetailed: creation_timestamp=1575667807691, current_stage='Production', description='My prod version', last_updated_timestamp=1575667807768, registered_model=<RegisteredModel: name='sklearn_registry_sampler'>, run_id='abdadacf27a64e3b82ff9c3c15679518', source='/usr/local/opt/mlflow/mlruns/2/abdadacf27a64e3b82ff9c3c15679518/artifacts/sklearn-model', status='READY', status_message='', user_id='', version=1>]"
      ]
     },
     "execution_count": 25,
     "metadata": {},
     "output_type": "execute_result"
    }
   ],
   "source": [
    "client.get_latest_versions(model_name)"
   ]
  },
  {
   "cell_type": "code",
   "execution_count": 26,
   "metadata": {},
   "outputs": [
    {
     "data": {
      "text/plain": [
       "{'_registered_model': <RegisteredModel: name='sklearn_registry_sampler'>,\n",
       " '_version': 1,\n",
       " '_creation_time': 1575667807691,\n",
       " '_last_updated_timestamp': 1575667807768,\n",
       " '_description': 'My prod version',\n",
       " '_user_id': '',\n",
       " '_current_stage': 'Production',\n",
       " '_source': '/usr/local/opt/mlflow/mlruns/2/abdadacf27a64e3b82ff9c3c15679518/artifacts/sklearn-model',\n",
       " '_run_id': 'abdadacf27a64e3b82ff9c3c15679518',\n",
       " '_status': 'READY',\n",
       " '_status_message': ''}"
      ]
     },
     "execution_count": 26,
     "metadata": {},
     "output_type": "execute_result"
    }
   ],
   "source": [
    "versionDetails = client.get_model_version_details(model_name,1)\n",
    "versionDetails.__dict__"
   ]
  },
  {
   "cell_type": "markdown",
   "metadata": {},
   "source": [
    "### Staging"
   ]
  },
  {
   "cell_type": "code",
   "execution_count": 27,
   "metadata": {},
   "outputs": [],
   "source": [
    "def show_versions(versions):\n",
    "    for v in versions:\n",
    "        print(f\"{v.run_id} {v.version} {v.current_stage} '{v.description}'\")"
   ]
  },
  {
   "cell_type": "code",
   "execution_count": 28,
   "metadata": {},
   "outputs": [
    {
     "name": "stdout",
     "output_type": "stream",
     "text": [
      "==== 0\n",
      "{'_registered_model': <RegisteredModel: name='sklearn_registry_sampler'>, '_version': 2, '_creation_time': 1575667807850, '_last_updated_timestamp': 1575667807850, '_description': '', '_user_id': '', '_current_stage': 'None', '_source': '/usr/local/opt/mlflow/mlruns/2/cb714e90454e4ea689127cde4799bd46/artifacts/sklearn-model', '_run_id': 'cb714e90454e4ea689127cde4799bd46', '_status': 'READY', '_status_message': ''}\n",
      "==== 1\n",
      "{'_registered_model': <RegisteredModel: name='sklearn_registry_sampler'>, '_version': 3, '_creation_time': 1575667807888, '_last_updated_timestamp': 1575667807888, '_description': '', '_user_id': '', '_current_stage': 'None', '_source': '/usr/local/opt/mlflow/mlruns/2/66d0de28bf65485db439d1ff5ab2d161/artifacts/sklearn-model', '_run_id': '66d0de28bf65485db439d1ff5ab2d161', '_status': 'READY', '_status_message': ''}\n",
      "==== 2\n",
      "{'_registered_model': <RegisteredModel: name='sklearn_registry_sampler'>, '_version': 4, '_creation_time': 1575667807920, '_last_updated_timestamp': 1575667807920, '_description': '', '_user_id': '', '_current_stage': 'None', '_source': '/usr/local/opt/mlflow/mlruns/2/7f65da46d2b84b40814823a657c1c733/artifacts/sklearn-model', '_run_id': '7f65da46d2b84b40814823a657c1c733', '_status': 'READY', '_status_message': ''}\n"
     ]
    }
   ],
   "source": [
    " for j,run in enumerate(staging_runs):\n",
    "    print(f\"==== {j}\")\n",
    "    source = f\"{run.info.artifact_uri}/sklearn-model\"\n",
    "    version = client.create_model_version(model_name, source, run.info.run_id)\n",
    "    #print(version.__dict__)\n",
    "    time.sleep(naptime)\n",
    "    versionDetails = client.get_model_version_details(model_name,version.version)\n",
    "    print(versionDetails.__dict__)\n",
    "    client.update_model_version(model_name, version.version, stage=\"Staging\", description=f\"My staging version {j}\")"
   ]
  },
  {
   "cell_type": "markdown",
   "metadata": {},
   "source": [
    "### Manipulate Versions"
   ]
  },
  {
   "cell_type": "markdown",
   "metadata": {},
   "source": [
    "#### Update Version"
   ]
  },
  {
   "cell_type": "code",
   "execution_count": 29,
   "metadata": {},
   "outputs": [
    {
     "name": "stdout",
     "output_type": "stream",
     "text": [
      "abdadacf27a64e3b82ff9c3c15679518 1 Production 'My prod version'\n",
      "cb714e90454e4ea689127cde4799bd46 2 Staging 'My staging version 0'\n",
      "66d0de28bf65485db439d1ff5ab2d161 3 Staging 'My staging version 1'\n",
      "7f65da46d2b84b40814823a657c1c733 4 Staging 'My staging version 2'\n"
     ]
    }
   ],
   "source": [
    "show_versions(client.search_model_versions(f\"name='{model_name}'\"))"
   ]
  },
  {
   "cell_type": "code",
   "execution_count": 30,
   "metadata": {},
   "outputs": [],
   "source": [
    "client.update_model_version(model_name, 3, stage='None')"
   ]
  },
  {
   "cell_type": "code",
   "execution_count": 31,
   "metadata": {},
   "outputs": [
    {
     "name": "stdout",
     "output_type": "stream",
     "text": [
      "abdadacf27a64e3b82ff9c3c15679518 1 Production 'My prod version'\n",
      "cb714e90454e4ea689127cde4799bd46 2 Staging 'My staging version 0'\n",
      "66d0de28bf65485db439d1ff5ab2d161 3 None 'My staging version 1'\n",
      "7f65da46d2b84b40814823a657c1c733 4 Staging 'My staging version 2'\n"
     ]
    }
   ],
   "source": [
    "show_versions(client.search_model_versions(f\"name='{model_name}'\"))"
   ]
  },
  {
   "cell_type": "markdown",
   "metadata": {},
   "source": [
    "#### Delete Version"
   ]
  },
  {
   "cell_type": "code",
   "execution_count": 32,
   "metadata": {},
   "outputs": [],
   "source": [
    "client.delete_model_version(model_name, 3)"
   ]
  },
  {
   "cell_type": "code",
   "execution_count": 33,
   "metadata": {},
   "outputs": [
    {
     "name": "stdout",
     "output_type": "stream",
     "text": [
      "abdadacf27a64e3b82ff9c3c15679518 1 Production 'My prod version'\n",
      "cb714e90454e4ea689127cde4799bd46 2 Staging 'My staging version 0'\n",
      "7f65da46d2b84b40814823a657c1c733 4 Staging 'My staging version 2'\n"
     ]
    }
   ],
   "source": [
    "show_versions(client.search_model_versions(f\"name='{model_name}'\"))"
   ]
  },
  {
   "cell_type": "markdown",
   "metadata": {},
   "source": [
    "### Execute version methods"
   ]
  },
  {
   "cell_type": "code",
   "execution_count": 34,
   "metadata": {},
   "outputs": [
    {
     "name": "stdout",
     "output_type": "stream",
     "text": [
      "abdadacf27a64e3b82ff9c3c15679518 1 Production 'My prod version'\n",
      "cb714e90454e4ea689127cde4799bd46 2 Staging 'My staging version 0'\n",
      "7f65da46d2b84b40814823a657c1c733 4 Staging 'My staging version 2'\n"
     ]
    }
   ],
   "source": [
    "versions = client.search_model_versions(f\"name='{model_name}'\")\n",
    "show_versions(versions)"
   ]
  },
  {
   "cell_type": "code",
   "execution_count": 35,
   "metadata": {},
   "outputs": [
    {
     "name": "stdout",
     "output_type": "stream",
     "text": [
      "abdadacf27a64e3b82ff9c3c15679518 1 Production 'My prod version'\n",
      "7f65da46d2b84b40814823a657c1c733 4 Staging 'My staging version 2'\n"
     ]
    }
   ],
   "source": [
    "versions =  client.get_latest_versions(model_name)\n",
    "show_versions(versions)"
   ]
  },
  {
   "cell_type": "code",
   "execution_count": 36,
   "metadata": {},
   "outputs": [
    {
     "data": {
      "text/plain": [
       "{'_name': 'sklearn_registry_sampler',\n",
       " '_creation_time': 1575667807657,\n",
       " '_last_updated_timestamp': 1575667808000,\n",
       " '_description': '',\n",
       " '_latest_version': [<ModelVersionDetailed: creation_timestamp=1575667807691, current_stage='Production', description='My prod version', last_updated_timestamp=1575667807768, registered_model=<RegisteredModel: name='sklearn_registry_sampler'>, run_id='abdadacf27a64e3b82ff9c3c15679518', source='/usr/local/opt/mlflow/mlruns/2/abdadacf27a64e3b82ff9c3c15679518/artifacts/sklearn-model', status='READY', status_message='', user_id='', version=1>,\n",
       "  <ModelVersionDetailed: creation_timestamp=1575667807920, current_stage='Staging', description='My staging version 2', last_updated_timestamp=1575667807936, registered_model=<RegisteredModel: name='sklearn_registry_sampler'>, run_id='7f65da46d2b84b40814823a657c1c733', source='/usr/local/opt/mlflow/mlruns/2/7f65da46d2b84b40814823a657c1c733/artifacts/sklearn-model', status='READY', status_message='', user_id='', version=4>]}"
      ]
     },
     "execution_count": 36,
     "metadata": {},
     "output_type": "execute_result"
    }
   ],
   "source": [
    "registered_model = client.get_registered_model_details(model_name)\n",
    "registered_model.__dict__"
   ]
  },
  {
   "cell_type": "code",
   "execution_count": 37,
   "metadata": {},
   "outputs": [
    {
     "name": "stdout",
     "output_type": "stream",
     "text": [
      "abdadacf27a64e3b82ff9c3c15679518 1 Production 'My prod version'\n",
      "7f65da46d2b84b40814823a657c1c733 4 Staging 'My staging version 2'\n"
     ]
    }
   ],
   "source": [
    "show_versions(registered_model.latest_versions)"
   ]
  },
  {
   "cell_type": "code",
   "execution_count": 38,
   "metadata": {},
   "outputs": [
    {
     "name": "stdout",
     "output_type": "stream",
     "text": [
      "abdadacf27a64e3b82ff9c3c15679518 1 Production 'My prod version'\n"
     ]
    }
   ],
   "source": [
    "versions = client.get_latest_versions(model_name, stages=[\"Production\"])\n",
    "show_versions(versions)"
   ]
  },
  {
   "cell_type": "code",
   "execution_count": 39,
   "metadata": {},
   "outputs": [
    {
     "name": "stdout",
     "output_type": "stream",
     "text": [
      "7f65da46d2b84b40814823a657c1c733 4 Staging 'My staging version 2'\n"
     ]
    }
   ],
   "source": [
    "versions = client.get_latest_versions(model_name, stages=[\"Staging\"])\n",
    "show_versions(versions)"
   ]
  },
  {
   "cell_type": "markdown",
   "metadata": {},
   "source": [
    "### Get Model and predict"
   ]
  },
  {
   "cell_type": "markdown",
   "metadata": {},
   "source": [
    "#### Production model"
   ]
  },
  {
   "cell_type": "code",
   "execution_count": 40,
   "metadata": {},
   "outputs": [],
   "source": [
    " data_predict = data.drop(['quality'], axis=1)"
   ]
  },
  {
   "cell_type": "code",
   "execution_count": 41,
   "metadata": {},
   "outputs": [
    {
     "data": {
      "text/plain": [
       "'models:/sklearn_registry_sampler/production'"
      ]
     },
     "execution_count": 41,
     "metadata": {},
     "output_type": "execute_result"
    }
   ],
   "source": [
    "model_uri = f\"models:/{model_name}/production\"\n",
    "model_uri"
   ]
  },
  {
   "cell_type": "code",
   "execution_count": 42,
   "metadata": {},
   "outputs": [
    {
     "data": {
      "text/plain": [
       "DecisionTreeRegressor(criterion='mse', max_depth=5, max_features=None,\n",
       "                      max_leaf_nodes=None, min_impurity_decrease=0.0,\n",
       "                      min_impurity_split=None, min_samples_leaf=1,\n",
       "                      min_samples_split=2, min_weight_fraction_leaf=0.0,\n",
       "                      presort=False, random_state=None, splitter='best')"
      ]
     },
     "execution_count": 42,
     "metadata": {},
     "output_type": "execute_result"
    }
   ],
   "source": [
    "model = mlflow.sklearn.load_model(model_uri)\n",
    "model"
   ]
  },
  {
   "cell_type": "code",
   "execution_count": 43,
   "metadata": {},
   "outputs": [
    {
     "data": {
      "text/html": [
       "<div>\n",
       "<style scoped>\n",
       "    .dataframe tbody tr th:only-of-type {\n",
       "        vertical-align: middle;\n",
       "    }\n",
       "\n",
       "    .dataframe tbody tr th {\n",
       "        vertical-align: top;\n",
       "    }\n",
       "\n",
       "    .dataframe thead th {\n",
       "        text-align: right;\n",
       "    }\n",
       "</style>\n",
       "<table border=\"1\" class=\"dataframe\">\n",
       "  <thead>\n",
       "    <tr style=\"text-align: right;\">\n",
       "      <th></th>\n",
       "      <th>0</th>\n",
       "    </tr>\n",
       "  </thead>\n",
       "  <tbody>\n",
       "    <tr>\n",
       "      <th>0</th>\n",
       "      <td>5.384615</td>\n",
       "    </tr>\n",
       "    <tr>\n",
       "      <th>1</th>\n",
       "      <td>5.384615</td>\n",
       "    </tr>\n",
       "    <tr>\n",
       "      <th>2</th>\n",
       "      <td>5.785714</td>\n",
       "    </tr>\n",
       "    <tr>\n",
       "      <th>3</th>\n",
       "      <td>5.960674</td>\n",
       "    </tr>\n",
       "    <tr>\n",
       "      <th>4</th>\n",
       "      <td>5.960674</td>\n",
       "    </tr>\n",
       "  </tbody>\n",
       "</table>\n",
       "</div>"
      ],
      "text/plain": [
       "          0\n",
       "0  5.384615\n",
       "1  5.384615\n",
       "2  5.785714\n",
       "3  5.960674\n",
       "4  5.960674"
      ]
     },
     "execution_count": 43,
     "metadata": {},
     "output_type": "execute_result"
    }
   ],
   "source": [
    "predictions = model.predict(data_predict)\n",
    "pd.DataFrame(predictions).head(5)"
   ]
  },
  {
   "cell_type": "markdown",
   "metadata": {},
   "source": [
    "#### Staging model\n",
    "\n",
    "NOTE: Since there are two staging models, apparently the latest one is returned.\n",
    "This is not documented."
   ]
  },
  {
   "cell_type": "code",
   "execution_count": 44,
   "metadata": {},
   "outputs": [
    {
     "data": {
      "text/plain": [
       "DecisionTreeRegressor(criterion='mse', max_depth=16, max_features=None,\n",
       "                      max_leaf_nodes=None, min_impurity_decrease=0.0,\n",
       "                      min_impurity_split=None, min_samples_leaf=1,\n",
       "                      min_samples_split=2, min_weight_fraction_leaf=0.0,\n",
       "                      presort=False, random_state=None, splitter='best')"
      ]
     },
     "execution_count": 44,
     "metadata": {},
     "output_type": "execute_result"
    }
   ],
   "source": [
    "model = mlflow.sklearn.load_model(f\"models:/{model_name}/staging\")\n",
    "model"
   ]
  },
  {
   "cell_type": "code",
   "execution_count": 45,
   "metadata": {},
   "outputs": [
    {
     "data": {
      "text/html": [
       "<div>\n",
       "<style scoped>\n",
       "    .dataframe tbody tr th:only-of-type {\n",
       "        vertical-align: middle;\n",
       "    }\n",
       "\n",
       "    .dataframe tbody tr th {\n",
       "        vertical-align: top;\n",
       "    }\n",
       "\n",
       "    .dataframe thead th {\n",
       "        text-align: right;\n",
       "    }\n",
       "</style>\n",
       "<table border=\"1\" class=\"dataframe\">\n",
       "  <thead>\n",
       "    <tr style=\"text-align: right;\">\n",
       "      <th></th>\n",
       "      <th>0</th>\n",
       "    </tr>\n",
       "  </thead>\n",
       "  <tbody>\n",
       "    <tr>\n",
       "      <th>0</th>\n",
       "      <td>6.0</td>\n",
       "    </tr>\n",
       "    <tr>\n",
       "      <th>1</th>\n",
       "      <td>6.0</td>\n",
       "    </tr>\n",
       "    <tr>\n",
       "      <th>2</th>\n",
       "      <td>6.0</td>\n",
       "    </tr>\n",
       "    <tr>\n",
       "      <th>3</th>\n",
       "      <td>6.0</td>\n",
       "    </tr>\n",
       "    <tr>\n",
       "      <th>4</th>\n",
       "      <td>6.0</td>\n",
       "    </tr>\n",
       "  </tbody>\n",
       "</table>\n",
       "</div>"
      ],
      "text/plain": [
       "     0\n",
       "0  6.0\n",
       "1  6.0\n",
       "2  6.0\n",
       "3  6.0\n",
       "4  6.0"
      ]
     },
     "execution_count": 45,
     "metadata": {},
     "output_type": "execute_result"
    }
   ],
   "source": [
    "predictions = model.predict(data_predict)\n",
    "pd.DataFrame(predictions).head(5)"
   ]
  },
  {
   "cell_type": "markdown",
   "metadata": {},
   "source": [
    "### List Registry"
   ]
  },
  {
   "cell_type": "code",
   "execution_count": 46,
   "metadata": {},
   "outputs": [],
   "source": [
    "def dump(x,indent=\"  \"):\n",
    "  print(\"Registered Model\")\n",
    "  for k,v in x.__dict__.items():\n",
    "    if k == \"_latest_version\":\n",
    "      print(\"  \",k)\n",
    "      for e in v:\n",
    "        print(\"   ModelVersionDetailed:\")\n",
    "        for k2,v2 in e.__dict__.items():\n",
    "          print(\"      \",k2,\"-\",v2)\n",
    "    else:\n",
    "      print(\"  \",k,\"-\",v)"
   ]
  },
  {
   "cell_type": "code",
   "execution_count": 47,
   "metadata": {},
   "outputs": [],
   "source": [
    "def list_registry():\n",
    "  client = mlflow.tracking.MlflowClient()\n",
    "  lst = client.list_registered_models()\n",
    "  print(\"#register_models:\",len(lst))\n",
    "  for e in lst:\n",
    "    dump(e)\n",
    "  print(\"#register_models:\",len(lst))"
   ]
  },
  {
   "cell_type": "code",
   "execution_count": 48,
   "metadata": {},
   "outputs": [
    {
     "name": "stdout",
     "output_type": "stream",
     "text": [
      "#register_models: 1\n",
      "Registered Model\n",
      "   _name - sklearn_registry_sampler\n",
      "   _creation_time - 1575667807657\n",
      "   _last_updated_timestamp - 1575667808000\n",
      "   _description - \n",
      "   _latest_version\n",
      "   ModelVersionDetailed:\n",
      "       _registered_model - <RegisteredModel: name='sklearn_registry_sampler'>\n",
      "       _version - 1\n",
      "       _creation_time - 1575667807691\n",
      "       _last_updated_timestamp - 1575667807768\n",
      "       _description - My prod version\n",
      "       _user_id - \n",
      "       _current_stage - Production\n",
      "       _source - /usr/local/opt/mlflow/mlruns/2/abdadacf27a64e3b82ff9c3c15679518/artifacts/sklearn-model\n",
      "       _run_id - abdadacf27a64e3b82ff9c3c15679518\n",
      "       _status - READY\n",
      "       _status_message - \n",
      "   ModelVersionDetailed:\n",
      "       _registered_model - <RegisteredModel: name='sklearn_registry_sampler'>\n",
      "       _version - 4\n",
      "       _creation_time - 1575667807920\n",
      "       _last_updated_timestamp - 1575667807936\n",
      "       _description - My staging version 2\n",
      "       _user_id - \n",
      "       _current_stage - Staging\n",
      "       _source - /usr/local/opt/mlflow/mlruns/2/7f65da46d2b84b40814823a657c1c733/artifacts/sklearn-model\n",
      "       _run_id - 7f65da46d2b84b40814823a657c1c733\n",
      "       _status - READY\n",
      "       _status_message - \n",
      "#register_models: 1\n"
     ]
    }
   ],
   "source": [
    "list_registry()"
   ]
  }
 ],
 "metadata": {
  "kernelspec": {
   "display_name": "mlflow-1.4.0",
   "language": "python",
   "name": "mlflow-1.4.0"
  },
  "language_info": {
   "codemirror_mode": {
    "name": "ipython",
    "version": 3
   },
   "file_extension": ".py",
   "mimetype": "text/x-python",
   "name": "python",
   "nbconvert_exporter": "python",
   "pygments_lexer": "ipython3",
   "version": "3.7.5"
  },
  "name": "Train Wine Quality",
  "notebookId": 4664335
 },
 "nbformat": 4,
 "nbformat_minor": 1
}
