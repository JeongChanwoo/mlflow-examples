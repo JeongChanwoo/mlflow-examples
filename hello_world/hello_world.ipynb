{
 "cells": [
  {
   "cell_type": "markdown",
   "metadata": {},
   "source": [
    "# Hello World\n",
    "\n",
    "Overview:\n",
    "* Creates an experiment `hello_world` if it does not exist.\n",
    "* Logs parameters, metrics and tags.\n",
    "* Batch loggging of parameters, metrics and tags.\n",
    "* No ML training.\n",
    "* Optionally writes an artifact."
   ]
  },
  {
   "cell_type": "code",
   "execution_count": 2,
   "metadata": {},
   "outputs": [],
   "source": [
    "import mlflow\n",
    "from mlflow.entities import Param,Metric,RunTag"
   ]
  },
  {
   "cell_type": "code",
   "execution_count": 3,
   "metadata": {},
   "outputs": [
    {
     "name": "stdout",
     "output_type": "stream",
     "text": [
      "MLflow Version: 1.4.0\n",
      "Tracking URI: http://localhost:5000\n"
     ]
    }
   ],
   "source": [
    "print(\"MLflow Version:\", mlflow.version.VERSION)\n",
    "mlflow.set_tracking_uri(\"http://localhost:5000\")\n",
    "print(\"Tracking URI:\", mlflow.tracking.get_tracking_uri())"
   ]
  },
  {
   "cell_type": "code",
   "execution_count": 4,
   "metadata": {},
   "outputs": [
    {
     "name": "stdout",
     "output_type": "stream",
     "text": [
      "experiment_name: hello_world\n",
      "experiment_id: 1\n"
     ]
    },
    {
     "data": {
      "text/plain": [
       "'2019-11-06 14:37:33'"
      ]
     },
     "execution_count": 4,
     "metadata": {},
     "output_type": "execute_result"
    }
   ],
   "source": [
    "experiment_name = \"hello_world\"\n",
    "print(\"experiment_name:\",experiment_name)\n",
    "mlflow.set_experiment(experiment_name)\n",
    "\n",
    "client = mlflow.tracking.MlflowClient()\n",
    "experiment_id = client.get_experiment_by_name(experiment_name).experiment_id\n",
    "print(\"experiment_id:\",experiment_id)\n",
    "\n",
    "import time\n",
    "now = round(time.time())\n",
    "time.strftime(\"%Y-%m-%d %H:%M:%S\", time.gmtime(now))"
   ]
  },
  {
   "cell_type": "code",
   "execution_count": 5,
   "metadata": {},
   "outputs": [],
   "source": [
    "def run(alpha, run_origin, log_artifact):\n",
    "    with mlflow.start_run(run_name=run_origin) as run:\n",
    "        print(\"runId:\",run.info.run_uuid)\n",
    "        print(\"artifact_uri:\",mlflow.get_artifact_uri())\n",
    "        print(\"alpha:\",alpha)\n",
    "        print(\"log_artifact:\",log_artifact)\n",
    "        print(\"run_origin:\",run_origin)\n",
    "        mlflow.log_param(\"alpha\", alpha)\n",
    "        mlflow.log_metric(\"rmse\", 0.789)\n",
    "        mlflow.set_tag(\"run_origin\", run_origin)\n",
    "        mlflow.set_tag(\"log_artifact\", log_artifact)\n",
    "        if log_artifact:\n",
    "            with open(\"info.txt\", \"w\") as f:\n",
    "                f.write(\"Hi artifact\")\n",
    "            mlflow.log_artifact(\"info.txt\")\n",
    "        params = [ Param(\"p1\",\"0.1\"), Param(\"p2\",\"0.2\") ]\n",
    "        metrics = [ Metric(\"m1\",0.1,now,0), Metric(\"m2\",0.2,now,0) ]\n",
    "        tags = [ RunTag(\"t1\",\"hi1\"), RunTag(\"t2\",\"hi2\") ]\n",
    "        client.log_batch(run.info.run_uuid, metrics, params, tags)"
   ]
  },
  {
   "cell_type": "code",
   "execution_count": 6,
   "metadata": {},
   "outputs": [
    {
     "name": "stdout",
     "output_type": "stream",
     "text": [
      "runId: cd99ba6090e44e5baf2b8e088c3ae21a\n",
      "artifact_uri: /Users/ander/work/mlflow/server/local_mlrun/mlruns/1/cd99ba6090e44e5baf2b8e088c3ae21a/artifacts\n",
      "alpha: 0.1\n",
      "log_artifact: True\n",
      "run_origin: jupyter\n"
     ]
    }
   ],
   "source": [
    "run(\"0.1\", \"jupyter\", True)"
   ]
  }
 ],
 "metadata": {
  "kernelspec": {
   "display_name": "mlflow-1.4.0",
   "language": "python",
   "name": "mlflow-1.4.0"
  },
  "language_info": {
   "codemirror_mode": {
    "name": "ipython",
    "version": 3
   },
   "file_extension": ".py",
   "mimetype": "text/x-python",
   "name": "python",
   "nbconvert_exporter": "python",
   "pygments_lexer": "ipython3",
   "version": "3.7.5"
  }
 },
 "nbformat": 4,
 "nbformat_minor": 2
}
